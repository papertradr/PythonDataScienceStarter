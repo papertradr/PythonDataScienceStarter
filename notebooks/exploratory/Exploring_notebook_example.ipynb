{
 "cells": [
  {
   "cell_type": "markdown",
   "id": "9fd2f9a9",
   "metadata": {},
   "source": [
    "# Explore Data!\n",
    "Let's explore data!"
   ]
  },
  {
   "cell_type": "code",
   "execution_count": 1,
   "id": "9dc28498",
   "metadata": {},
   "outputs": [],
   "source": [
    "import numpy as np"
   ]
  },
  {
   "cell_type": "code",
   "execution_count": 2,
   "id": "1c7c6c3d",
   "metadata": {},
   "outputs": [],
   "source": [
    "def explore():\n",
    "    print(\"Hello World!\")\n"
   ]
  },
  {
   "cell_type": "code",
   "execution_count": 4,
   "id": "4ce58e93",
   "metadata": {},
   "outputs": [
    {
     "name": "stdout",
     "output_type": "stream",
     "text": [
      "Hello World!\n"
     ]
    }
   ],
   "source": [
    "explore()"
   ]
  }
 ],
 "metadata": {
  "kernelspec": {
   "display_name": "Python 3 (ipykernel)",
   "language": "python",
   "name": "python3"
  },
  "language_info": {
   "codemirror_mode": {
    "name": "ipython",
    "version": 3
   },
   "file_extension": ".py",
   "mimetype": "text/x-python",
   "name": "python",
   "nbconvert_exporter": "python",
   "pygments_lexer": "ipython3",
   "version": "3.8.10"
  }
 },
 "nbformat": 4,
 "nbformat_minor": 5
}
