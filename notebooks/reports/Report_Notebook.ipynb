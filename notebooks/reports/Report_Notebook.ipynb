{
 "cells": [
  {
   "cell_type": "markdown",
   "id": "1ad0922d",
   "metadata": {},
   "source": [
    "# Report Your Findings!"
   ]
  },
  {
   "cell_type": "code",
   "execution_count": 1,
   "id": "f7b692bb",
   "metadata": {},
   "outputs": [],
   "source": [
    "import numpy as np"
   ]
  },
  {
   "cell_type": "code",
   "execution_count": 2,
   "id": "66501664",
   "metadata": {},
   "outputs": [],
   "source": [
    "def report():\n",
    "    print(\"Create pdf and html files!\")\n",
    "    "
   ]
  },
  {
   "cell_type": "code",
   "execution_count": 3,
   "id": "11fce937",
   "metadata": {},
   "outputs": [
    {
     "name": "stdout",
     "output_type": "stream",
     "text": [
      "Create pdf and html files!\n"
     ]
    }
   ],
   "source": [
    "report()"
   ]
  }
 ],
 "metadata": {
  "kernelspec": {
   "display_name": "Python 3 (ipykernel)",
   "language": "python",
   "name": "python3"
  },
  "language_info": {
   "codemirror_mode": {
    "name": "ipython",
    "version": 3
   },
   "file_extension": ".py",
   "mimetype": "text/x-python",
   "name": "python",
   "nbconvert_exporter": "python",
   "pygments_lexer": "ipython3",
   "version": "3.8.10"
  }
 },
 "nbformat": 4,
 "nbformat_minor": 5
}
